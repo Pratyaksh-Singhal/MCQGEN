{
 "cells": [
  {
   "cell_type": "code",
   "execution_count": 1,
   "metadata": {},
   "outputs": [],
   "source": [
    "import json\n",
    "import os\n",
    "import pandas as pd\n",
    "import traceback"
   ]
  },
  {
   "cell_type": "code",
   "execution_count": 2,
   "metadata": {},
   "outputs": [],
   "source": [
    "from langchain.chat_models import ChatOpenAI"
   ]
  },
  {
   "cell_type": "code",
   "execution_count": 3,
   "metadata": {},
   "outputs": [
    {
     "data": {
      "text/plain": [
       "True"
      ]
     },
     "execution_count": 3,
     "metadata": {},
     "output_type": "execute_result"
    }
   ],
   "source": [
    "from dotenv import load_dotenv\n",
    "\n",
    "load_dotenv()"
   ]
  },
  {
   "cell_type": "code",
   "execution_count": 4,
   "metadata": {},
   "outputs": [],
   "source": [
    "KEY = os.getenv(\"OPENAI_API_KEY\")"
   ]
  },
  {
   "cell_type": "code",
   "execution_count": 5,
   "metadata": {},
   "outputs": [
    {
     "name": "stdout",
     "output_type": "stream",
     "text": [
      "sk-proj-k4kAaGKYBv7Eopu6bC3BT3BlbkFJiYS8DUgamYJohmBI9xiC\n"
     ]
    }
   ],
   "source": [
    "print(KEY)"
   ]
  },
  {
   "cell_type": "code",
   "execution_count": 6,
   "metadata": {},
   "outputs": [],
   "source": [
    "llm  = ChatOpenAI(api_key = KEY,model_name = \"gpt-3.5-turbo\", temperature=0.5)"
   ]
  },
  {
   "cell_type": "code",
   "execution_count": 7,
   "metadata": {},
   "outputs": [],
   "source": [
    "from langchain.callbacks import get_openai_callback\n",
    "from langchain.chains import SequentialChain\n",
    "from langchain.chains import SimpleSequentialChain\n",
    "from langchain.chains import LLMChain\n",
    "from langchain.llms import openai\n",
    "from langchain.prompts import PromptTemplate\n",
    "from langchain_core.output_parsers import StrOutputParser\n",
    "import PyPDF2"
   ]
  },
  {
   "cell_type": "code",
   "execution_count": 8,
   "metadata": {},
   "outputs": [],
   "source": [
    "RESPONSE_JSON = {\n",
    "    \"1\": {\n",
    "        \"mcq\": \"multiple choice question\",\n",
    "        \"options\": {\n",
    "            \"a\": \"choice here\",\n",
    "            \"b\": \"choice here\",\n",
    "            \"c\": \"choice here\",\n",
    "            \"d\": \"choice here\",\n",
    "        },\n",
    "        \"correct\": \"correct answer\",\n",
    "    },\n",
    "    \"2\": {\n",
    "        \"mcq\": \"multiple choice question\",\n",
    "        \"options\": {\n",
    "            \"a\": \"choice here\",\n",
    "            \"b\": \"choice here\",\n",
    "            \"c\": \"choice here\",\n",
    "            \"d\": \"choice here\",\n",
    "        },\n",
    "        \"correct\": \"correct answer\",\n",
    "    },\n",
    "    \"3\": {\n",
    "        \"mcq\": \"multiple choice question\",\n",
    "        \"options\": {\n",
    "            \"a\": \"choice here\",\n",
    "            \"b\": \"choice here\",\n",
    "            \"c\": \"choice here\",\n",
    "            \"d\": \"choice here\",\n",
    "        },\n",
    "        \"correct\": \"correct answer\",\n",
    "    },\n",
    "}"
   ]
  },
  {
   "cell_type": "code",
   "execution_count": 9,
   "metadata": {},
   "outputs": [],
   "source": [
    "TEMPLATE = '''\n",
    "Text:{text}\n",
    "You are an expert MCQ maker. Given the above text, it is your job to\\\n",
    "create a quiz of {number} multiple choice question for {subject} in {tone} tone.\n",
    "Make sure the questions are not repeated and check all the questions to be conforiming the text too.\n",
    "Ensure to make format your response like RESPONSE_JSON below and use it as guide.\\\n",
    "Ensure to make {number} MCQs\n",
    "{response_json}'''"
   ]
  },
  {
   "cell_type": "code",
   "execution_count": 10,
   "metadata": {},
   "outputs": [],
   "source": [
    "quiz_generation_prompt = PromptTemplate(\n",
    "    input_variables=['text','number','subject','tone','response_json'],\n",
    "    template=TEMPLATE    \n",
    ")"
   ]
  },
  {
   "cell_type": "code",
   "execution_count": 11,
   "metadata": {},
   "outputs": [],
   "source": [
    "quiz_chain=LLMChain(llm=llm, prompt=quiz_generation_prompt, output_key=\"quiz\", verbose=True)"
   ]
  },
  {
   "cell_type": "code",
   "execution_count": 12,
   "metadata": {},
   "outputs": [],
   "source": [
    "TEMPLATE2=\"\"\"\n",
    "You are an expert english grammarian and writer. Given a Multiple Choice Quiz for {subject} students.\\\n",
    "You need to evaluate the complexity of the question and give a complete analysis of the quiz. Only use at max 50 words for complexity analysis. \n",
    "if the quiz is not at per with the cognitive and analytical abilities of the students,\\\n",
    "update the quiz questions which needs to be changed and change the tone such that it perfectly fits the student abilities\n",
    "Quiz_MCQs:\n",
    "{quiz}\n",
    "\n",
    "Check from an expert English Writer of the above quiz:\n",
    "\"\"\""
   ]
  },
  {
   "cell_type": "code",
   "execution_count": 13,
   "metadata": {},
   "outputs": [],
   "source": [
    "quiz_evaluation_prompt = PromptTemplate(\n",
    "    input_variables=[\"subject\",\"quiz\"],\n",
    "    template=TEMPLATE2\n",
    ")"
   ]
  },
  {
   "cell_type": "code",
   "execution_count": 14,
   "metadata": {},
   "outputs": [],
   "source": [
    "review_chain= LLMChain(llm=llm, prompt=quiz_evaluation_prompt, output_key=\"review\", verbose=True)"
   ]
  },
  {
   "cell_type": "code",
   "execution_count": 15,
   "metadata": {},
   "outputs": [],
   "source": [
    "generate_evaluate_chain = SequentialChain(\n",
    "  chains=[quiz_chain, review_chain],\n",
    "  input_variables=[\"text\", \"number\", \"subject\", \"tone\",\"response_json\"],\n",
    "  output_variables=[\"quiz\", \"review\"],\n",
    "  verbose=True,\n",
    ")"
   ]
  },
  {
   "cell_type": "code",
   "execution_count": 16,
   "metadata": {},
   "outputs": [],
   "source": [
    "file_path = r\"D:\\NLP\\MCQGEN\\data.txt\""
   ]
  },
  {
   "cell_type": "code",
   "execution_count": 17,
   "metadata": {},
   "outputs": [],
   "source": [
    "with open(file_path,'r')as file:\n",
    "    TEXT = file.read()"
   ]
  },
  {
   "cell_type": "code",
   "execution_count": 18,
   "metadata": {},
   "outputs": [
    {
     "data": {
      "text/plain": [
       "'{\"1\": {\"mcq\": \"multiple choice question\", \"options\": {\"a\": \"choice here\", \"b\": \"choice here\", \"c\": \"choice here\", \"d\": \"choice here\"}, \"correct\": \"correct answer\"}, \"2\": {\"mcq\": \"multiple choice question\", \"options\": {\"a\": \"choice here\", \"b\": \"choice here\", \"c\": \"choice here\", \"d\": \"choice here\"}, \"correct\": \"correct answer\"}, \"3\": {\"mcq\": \"multiple choice question\", \"options\": {\"a\": \"choice here\", \"b\": \"choice here\", \"c\": \"choice here\", \"d\": \"choice here\"}, \"correct\": \"correct answer\"}}'"
      ]
     },
     "execution_count": 18,
     "metadata": {},
     "output_type": "execute_result"
    }
   ],
   "source": [
    "json.dumps(RESPONSE_JSON)"
   ]
  },
  {
   "cell_type": "code",
   "execution_count": 19,
   "metadata": {},
   "outputs": [],
   "source": [
    "NUMBER=5 \n",
    "\n",
    "SUBJECT=\"Machine Learning\"\n",
    "\n",
    "TONE=\"simple\""
   ]
  },
  {
   "cell_type": "code",
   "execution_count": 20,
   "metadata": {},
   "outputs": [
    {
     "name": "stdout",
     "output_type": "stream",
     "text": [
      "\n",
      "\n",
      "\u001b[1m> Entering new SequentialChain chain...\u001b[0m\n",
      "\n",
      "\n",
      "\u001b[1m> Entering new LLMChain chain...\u001b[0m\n",
      "Prompt after formatting:\n",
      "\u001b[32;1m\u001b[1;3m\n",
      "Text:Machine Learning tutorial covers basic and advanced concepts, specially designed to cater to both students and experienced working professionals.\n",
      "This machine learning tutorial helps you gain a solid introduction to the fundamentals of machine learning and explore a wide range of techniques, including supervised, unsupervised, and reinforcement learning.\n",
      "Machine learning (ML) is a subdomain of artificial intelligence (AI) that focuses on developing systems that learnâ€”or improve performanceâ€”based on the data they ingest. Artificial intelligence is a broad word that refers to systems or machines that resemble human intelligence. Machine learning and AI are frequently discussed together, and the terms are occasionally used interchangeably, although they do not signify the same thing. A crucial distinction is that, while all machine learning is AI, not all AI is machine learning.\n",
      "Machine Learning is the field of study that gives computers the capability to learn without being explicitly programmed. ML is one of the most exciting technologies that one would have ever come across. As it is evident from the name, it gives the computer that makes it more similar to humans: The ability to learn. Machine learning is actively being used today, perhaps in many more places than one would expect.\n",
      "You are an expert MCQ maker. Given the above text, it is your job tocreate a quiz of 5 multiple choice question for Machine Learning in simple tone.\n",
      "Make sure the questions are not repeated and check all the questions to be conforiming the text too.\n",
      "Ensure to make format your response like RESPONSE_JSON below and use it as guide.Ensure to make 5 MCQs\n",
      "{\"1\": {\"mcq\": \"multiple choice question\", \"options\": {\"a\": \"choice here\", \"b\": \"choice here\", \"c\": \"choice here\", \"d\": \"choice here\"}, \"correct\": \"correct answer\"}, \"2\": {\"mcq\": \"multiple choice question\", \"options\": {\"a\": \"choice here\", \"b\": \"choice here\", \"c\": \"choice here\", \"d\": \"choice here\"}, \"correct\": \"correct answer\"}, \"3\": {\"mcq\": \"multiple choice question\", \"options\": {\"a\": \"choice here\", \"b\": \"choice here\", \"c\": \"choice here\", \"d\": \"choice here\"}, \"correct\": \"correct answer\"}}\u001b[0m\n",
      "\n",
      "\u001b[1m> Finished chain.\u001b[0m\n",
      "\n",
      "\n",
      "\u001b[1m> Entering new LLMChain chain...\u001b[0m\n",
      "Prompt after formatting:\n",
      "\u001b[32;1m\u001b[1;3m\n",
      "You are an expert english grammarian and writer. Given a Multiple Choice Quiz for Machine Learning students.You need to evaluate the complexity of the question and give a complete analysis of the quiz. Only use at max 50 words for complexity analysis. \n",
      "if the quiz is not at per with the cognitive and analytical abilities of the students,update the quiz questions which needs to be changed and change the tone such that it perfectly fits the student abilities\n",
      "Quiz_MCQs:\n",
      "{\n",
      "\"1\": {\n",
      "\"mcq\": \"What is machine learning?\",\n",
      "\"options\": {\n",
      "\"a\": \"A subdomain of artificial intelligence that focuses on developing systems that learn based on the data they ingest\",\n",
      "\"b\": \"A type of computer programming that requires explicit instructions for every task\",\n",
      "\"c\": \"A technology that gives computers the ability to think and reason like humans\",\n",
      "\"d\": \"A type of robotic technology used in manufacturing processes\"\n",
      "},\n",
      "\"correct\": \"a\"\n",
      "},\n",
      "\"2\": {\n",
      "\"mcq\": \"Which of the following is NOT a type of machine learning?\",\n",
      "\"options\": {\n",
      "\"a\": \"Supervised learning\",\n",
      "\"b\": \"Unsupervised learning\",\n",
      "\"c\": \"Reinforcement learning\",\n",
      "\"d\": \"Explicit learning\"\n",
      "},\n",
      "\"correct\": \"d\"\n",
      "},\n",
      "\"3\": {\n",
      "\"mcq\": \"What is the main goal of machine learning?\",\n",
      "\"options\": {\n",
      "\"a\": \"To make computers think and reason like humans\",\n",
      "\"b\": \"To develop systems that can learn and improve performance based on data\",\n",
      "\"c\": \"To replace human intelligence with artificial intelligence\",\n",
      "\"d\": \"To create robots that can perform tasks without any programming\"\n",
      "},\n",
      "\"correct\": \"b\"\n",
      "},\n",
      "\"4\": {\n",
      "\"mcq\": \"What distinguishes machine learning from artificial intelligence?\",\n",
      "\"options\": {\n",
      "\"a\": \"Machine learning is a type of artificial intelligence\",\n",
      "\"b\": \"Artificial intelligence requires explicit programming, while machine learning does not\",\n",
      "\"c\": \"Machine learning focuses on developing systems that learn based on data, while AI focuses on robotic technology\",\n",
      "\"d\": \"There is no distinction between machine learning and artificial intelligence\"\n",
      "},\n",
      "\"correct\": \"b\"\n",
      "},\n",
      "\"5\": {\n",
      "\"mcq\": \"What is the field of study that gives computers the capability to learn without being explicitly programmed?\",\n",
      "\"options\": {\n",
      "\"a\": \"Artificial intelligence\",\n",
      "\"b\": \"Machine learning\",\n",
      "\"c\": \"Data science\",\n",
      "\"d\": \"Robotics\"\n",
      "},\n",
      "\"correct\": \"b\"\n",
      "}\n",
      "}\n",
      "\n",
      "Check from an expert English Writer of the above quiz:\n",
      "\u001b[0m\n",
      "\n",
      "\u001b[1m> Finished chain.\u001b[0m\n",
      "\n",
      "\u001b[1m> Finished chain.\u001b[0m\n"
     ]
    }
   ],
   "source": [
    "with get_openai_callback() as cb:\n",
    "    response=generate_evaluate_chain(\n",
    "        {\n",
    "            \"text\": TEXT,\n",
    "            \"number\": NUMBER,\n",
    "            \"subject\":SUBJECT,\n",
    "            \"tone\": TONE,\n",
    "            \"response_json\": json.dumps(RESPONSE_JSON)\n",
    "        }\n",
    "        )"
   ]
  },
  {
   "cell_type": "code",
   "execution_count": 21,
   "metadata": {},
   "outputs": [
    {
     "name": "stdout",
     "output_type": "stream",
     "text": [
      "Total Tokens:1439\n",
      "Prompt Tokens:993\n",
      "Completion Tokens:446\n",
      "Total Cost:0.0023815000000000004\n"
     ]
    }
   ],
   "source": [
    "print(f\"Total Tokens:{cb.total_tokens}\")\n",
    "print(f\"Prompt Tokens:{cb.prompt_tokens}\")\n",
    "print(f\"Completion Tokens:{cb.completion_tokens}\")\n",
    "print(f\"Total Cost:{cb.total_cost}\")"
   ]
  },
  {
   "cell_type": "code",
   "execution_count": 22,
   "metadata": {},
   "outputs": [
    {
     "data": {
      "text/plain": [
       "{'text': 'Machine Learning tutorial covers basic and advanced concepts, specially designed to cater to both students and experienced working professionals.\\nThis machine learning tutorial helps you gain a solid introduction to the fundamentals of machine learning and explore a wide range of techniques, including supervised, unsupervised, and reinforcement learning.\\nMachine learning (ML) is a subdomain of artificial intelligence (AI) that focuses on developing systems that learnâ€”or improve performanceâ€”based on the data they ingest. Artificial intelligence is a broad word that refers to systems or machines that resemble human intelligence. Machine learning and AI are frequently discussed together, and the terms are occasionally used interchangeably, although they do not signify the same thing. A crucial distinction is that, while all machine learning is AI, not all AI is machine learning.\\nMachine Learning is the field of study that gives computers the capability to learn without being explicitly programmed. ML is one of the most exciting technologies that one would have ever come across. As it is evident from the name, it gives the computer that makes it more similar to humans: The ability to learn. Machine learning is actively being used today, perhaps in many more places than one would expect.',\n",
       " 'number': 5,\n",
       " 'subject': 'Machine Learning',\n",
       " 'tone': 'simple',\n",
       " 'response_json': '{\"1\": {\"mcq\": \"multiple choice question\", \"options\": {\"a\": \"choice here\", \"b\": \"choice here\", \"c\": \"choice here\", \"d\": \"choice here\"}, \"correct\": \"correct answer\"}, \"2\": {\"mcq\": \"multiple choice question\", \"options\": {\"a\": \"choice here\", \"b\": \"choice here\", \"c\": \"choice here\", \"d\": \"choice here\"}, \"correct\": \"correct answer\"}, \"3\": {\"mcq\": \"multiple choice question\", \"options\": {\"a\": \"choice here\", \"b\": \"choice here\", \"c\": \"choice here\", \"d\": \"choice here\"}, \"correct\": \"correct answer\"}}',\n",
       " 'quiz': '{\\n\"1\": {\\n\"mcq\": \"What is machine learning?\",\\n\"options\": {\\n\"a\": \"A subdomain of artificial intelligence that focuses on developing systems that learn based on the data they ingest\",\\n\"b\": \"A type of computer programming that requires explicit instructions for every task\",\\n\"c\": \"A technology that gives computers the ability to think and reason like humans\",\\n\"d\": \"A type of robotic technology used in manufacturing processes\"\\n},\\n\"correct\": \"a\"\\n},\\n\"2\": {\\n\"mcq\": \"Which of the following is NOT a type of machine learning?\",\\n\"options\": {\\n\"a\": \"Supervised learning\",\\n\"b\": \"Unsupervised learning\",\\n\"c\": \"Reinforcement learning\",\\n\"d\": \"Explicit learning\"\\n},\\n\"correct\": \"d\"\\n},\\n\"3\": {\\n\"mcq\": \"What is the main goal of machine learning?\",\\n\"options\": {\\n\"a\": \"To make computers think and reason like humans\",\\n\"b\": \"To develop systems that can learn and improve performance based on data\",\\n\"c\": \"To replace human intelligence with artificial intelligence\",\\n\"d\": \"To create robots that can perform tasks without any programming\"\\n},\\n\"correct\": \"b\"\\n},\\n\"4\": {\\n\"mcq\": \"What distinguishes machine learning from artificial intelligence?\",\\n\"options\": {\\n\"a\": \"Machine learning is a type of artificial intelligence\",\\n\"b\": \"Artificial intelligence requires explicit programming, while machine learning does not\",\\n\"c\": \"Machine learning focuses on developing systems that learn based on data, while AI focuses on robotic technology\",\\n\"d\": \"There is no distinction between machine learning and artificial intelligence\"\\n},\\n\"correct\": \"b\"\\n},\\n\"5\": {\\n\"mcq\": \"What is the field of study that gives computers the capability to learn without being explicitly programmed?\",\\n\"options\": {\\n\"a\": \"Artificial intelligence\",\\n\"b\": \"Machine learning\",\\n\"c\": \"Data science\",\\n\"d\": \"Robotics\"\\n},\\n\"correct\": \"b\"\\n}\\n}',\n",
       " 'review': 'The complexity of the quiz is appropriate for Machine Learning students. The questions cover fundamental concepts and terminology in a clear and concise manner. No changes are necessary as the tone and difficulty level align with student abilities.'}"
      ]
     },
     "execution_count": 22,
     "metadata": {},
     "output_type": "execute_result"
    }
   ],
   "source": [
    "response"
   ]
  },
  {
   "cell_type": "code",
   "execution_count": 23,
   "metadata": {},
   "outputs": [],
   "source": [
    "quiz=response.get(\"quiz\")"
   ]
  },
  {
   "cell_type": "code",
   "execution_count": 24,
   "metadata": {},
   "outputs": [],
   "source": [
    "quiz=json.loads(quiz)"
   ]
  },
  {
   "cell_type": "code",
   "execution_count": 25,
   "metadata": {},
   "outputs": [],
   "source": [
    "quiz_table_data = []\n",
    "for key, value in quiz.items():\n",
    "    mcq = value[\"mcq\"]\n",
    "    options = \" | \".join(\n",
    "        [\n",
    "            f\"{option}: {option_value}\"\n",
    "            for option, option_value in value[\"options\"].items()\n",
    "            ]\n",
    "        )\n",
    "    correct = value[\"correct\"]\n",
    "    quiz_table_data.append({\"MCQ\": mcq, \"Choices\": options, \"Correct\": correct})"
   ]
  },
  {
   "cell_type": "code",
   "execution_count": 26,
   "metadata": {},
   "outputs": [
    {
     "data": {
      "text/plain": [
       "[{'MCQ': 'What is machine learning?',\n",
       "  'Choices': 'a: A subdomain of artificial intelligence that focuses on developing systems that learn based on the data they ingest | b: A type of computer programming that requires explicit instructions for every task | c: A technology that gives computers the ability to think and reason like humans | d: A type of robotic technology used in manufacturing processes',\n",
       "  'Correct': 'a'},\n",
       " {'MCQ': 'Which of the following is NOT a type of machine learning?',\n",
       "  'Choices': 'a: Supervised learning | b: Unsupervised learning | c: Reinforcement learning | d: Explicit learning',\n",
       "  'Correct': 'd'},\n",
       " {'MCQ': 'What is the main goal of machine learning?',\n",
       "  'Choices': 'a: To make computers think and reason like humans | b: To develop systems that can learn and improve performance based on data | c: To replace human intelligence with artificial intelligence | d: To create robots that can perform tasks without any programming',\n",
       "  'Correct': 'b'},\n",
       " {'MCQ': 'What distinguishes machine learning from artificial intelligence?',\n",
       "  'Choices': 'a: Machine learning is a type of artificial intelligence | b: Artificial intelligence requires explicit programming, while machine learning does not | c: Machine learning focuses on developing systems that learn based on data, while AI focuses on robotic technology | d: There is no distinction between machine learning and artificial intelligence',\n",
       "  'Correct': 'b'},\n",
       " {'MCQ': 'What is the field of study that gives computers the capability to learn without being explicitly programmed?',\n",
       "  'Choices': 'a: Artificial intelligence | b: Machine learning | c: Data science | d: Robotics',\n",
       "  'Correct': 'b'}]"
      ]
     },
     "execution_count": 26,
     "metadata": {},
     "output_type": "execute_result"
    }
   ],
   "source": [
    "quiz_table_data"
   ]
  },
  {
   "cell_type": "code",
   "execution_count": 27,
   "metadata": {},
   "outputs": [],
   "source": [
    "quiz=pd.DataFrame(quiz_table_data)"
   ]
  },
  {
   "cell_type": "code",
   "execution_count": 28,
   "metadata": {},
   "outputs": [],
   "source": [
    "quiz.to_csv(\"machinelearning.csv\",index=False)"
   ]
  },
  {
   "cell_type": "code",
   "execution_count": null,
   "metadata": {},
   "outputs": [],
   "source": [
    "from datetime import datetime\n",
    "datetime.now().strftime('%m_%d_%Y_%H_%M_%S')"
   ]
  }
 ],
 "metadata": {
  "kernelspec": {
   "display_name": "McqGen",
   "language": "python",
   "name": "python3"
  },
  "language_info": {
   "codemirror_mode": {
    "name": "ipython",
    "version": 3
   },
   "file_extension": ".py",
   "mimetype": "text/x-python",
   "name": "python",
   "nbconvert_exporter": "python",
   "pygments_lexer": "ipython3",
   "version": "3.10.8"
  }
 },
 "nbformat": 4,
 "nbformat_minor": 2
}
